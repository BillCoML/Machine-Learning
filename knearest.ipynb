{
 "cells": [
  {
   "cell_type": "code",
   "execution_count": 667,
   "metadata": {},
   "outputs": [],
   "source": [
    "import pandas as pd\n",
    "import numpy as np"
   ]
  },
  {
   "cell_type": "code",
   "execution_count": 668,
   "metadata": {},
   "outputs": [
    {
     "data": {
      "text/html": [
       "<div>\n",
       "<style scoped>\n",
       "    .dataframe tbody tr th:only-of-type {\n",
       "        vertical-align: middle;\n",
       "    }\n",
       "\n",
       "    .dataframe tbody tr th {\n",
       "        vertical-align: top;\n",
       "    }\n",
       "\n",
       "    .dataframe thead th {\n",
       "        text-align: right;\n",
       "    }\n",
       "</style>\n",
       "<table border=\"1\" class=\"dataframe\">\n",
       "  <thead>\n",
       "    <tr style=\"text-align: right;\">\n",
       "      <th></th>\n",
       "      <th>Sepal.Length</th>\n",
       "      <th>Sepal.Width</th>\n",
       "      <th>Petal.Length</th>\n",
       "      <th>Petal.Width</th>\n",
       "      <th>Species</th>\n",
       "    </tr>\n",
       "  </thead>\n",
       "  <tbody>\n",
       "    <tr>\n",
       "      <th>61</th>\n",
       "      <td>5.9</td>\n",
       "      <td>3.0</td>\n",
       "      <td>4.2</td>\n",
       "      <td>1.5</td>\n",
       "      <td>versicolor</td>\n",
       "    </tr>\n",
       "    <tr>\n",
       "      <th>90</th>\n",
       "      <td>5.5</td>\n",
       "      <td>2.6</td>\n",
       "      <td>4.4</td>\n",
       "      <td>1.2</td>\n",
       "      <td>versicolor</td>\n",
       "    </tr>\n",
       "    <tr>\n",
       "      <th>26</th>\n",
       "      <td>5.0</td>\n",
       "      <td>3.4</td>\n",
       "      <td>1.6</td>\n",
       "      <td>0.4</td>\n",
       "      <td>setosa</td>\n",
       "    </tr>\n",
       "    <tr>\n",
       "      <th>98</th>\n",
       "      <td>5.1</td>\n",
       "      <td>2.5</td>\n",
       "      <td>3.0</td>\n",
       "      <td>1.1</td>\n",
       "      <td>versicolor</td>\n",
       "    </tr>\n",
       "    <tr>\n",
       "      <th>31</th>\n",
       "      <td>5.4</td>\n",
       "      <td>3.4</td>\n",
       "      <td>1.5</td>\n",
       "      <td>0.4</td>\n",
       "      <td>setosa</td>\n",
       "    </tr>\n",
       "    <tr>\n",
       "      <th>...</th>\n",
       "      <td>...</td>\n",
       "      <td>...</td>\n",
       "      <td>...</td>\n",
       "      <td>...</td>\n",
       "      <td>...</td>\n",
       "    </tr>\n",
       "    <tr>\n",
       "      <th>34</th>\n",
       "      <td>4.9</td>\n",
       "      <td>3.1</td>\n",
       "      <td>1.5</td>\n",
       "      <td>0.2</td>\n",
       "      <td>setosa</td>\n",
       "    </tr>\n",
       "    <tr>\n",
       "      <th>45</th>\n",
       "      <td>4.8</td>\n",
       "      <td>3.0</td>\n",
       "      <td>1.4</td>\n",
       "      <td>0.3</td>\n",
       "      <td>setosa</td>\n",
       "    </tr>\n",
       "    <tr>\n",
       "      <th>17</th>\n",
       "      <td>5.1</td>\n",
       "      <td>3.5</td>\n",
       "      <td>1.4</td>\n",
       "      <td>0.3</td>\n",
       "      <td>setosa</td>\n",
       "    </tr>\n",
       "    <tr>\n",
       "      <th>6</th>\n",
       "      <td>4.6</td>\n",
       "      <td>3.4</td>\n",
       "      <td>1.4</td>\n",
       "      <td>0.3</td>\n",
       "      <td>setosa</td>\n",
       "    </tr>\n",
       "    <tr>\n",
       "      <th>79</th>\n",
       "      <td>5.7</td>\n",
       "      <td>2.6</td>\n",
       "      <td>3.5</td>\n",
       "      <td>1.0</td>\n",
       "      <td>versicolor</td>\n",
       "    </tr>\n",
       "  </tbody>\n",
       "</table>\n",
       "<p>150 rows × 5 columns</p>\n",
       "</div>"
      ],
      "text/plain": [
       "    Sepal.Length  Sepal.Width  Petal.Length  Petal.Width     Species\n",
       "61           5.9          3.0           4.2          1.5  versicolor\n",
       "90           5.5          2.6           4.4          1.2  versicolor\n",
       "26           5.0          3.4           1.6          0.4      setosa\n",
       "98           5.1          2.5           3.0          1.1  versicolor\n",
       "31           5.4          3.4           1.5          0.4      setosa\n",
       "..           ...          ...           ...          ...         ...\n",
       "34           4.9          3.1           1.5          0.2      setosa\n",
       "45           4.8          3.0           1.4          0.3      setosa\n",
       "17           5.1          3.5           1.4          0.3      setosa\n",
       "6            4.6          3.4           1.4          0.3      setosa\n",
       "79           5.7          2.6           3.5          1.0  versicolor\n",
       "\n",
       "[150 rows x 5 columns]"
      ]
     },
     "execution_count": 668,
     "metadata": {},
     "output_type": "execute_result"
    }
   ],
   "source": [
    "data = pd.read_csv(\"iris.csv\")\n",
    "data = data.sample(frac=1)\n",
    "data"
   ]
  },
  {
   "cell_type": "code",
   "execution_count": 669,
   "metadata": {},
   "outputs": [],
   "source": [
    "class KNearest:\n",
    "    def __init__(self, data):\n",
    "        #Input must be a DataFrame\n",
    "        #features are columns from 0 to -1\n",
    "        #labels is the last column\n",
    "        self.data = data\n",
    "    \n",
    "    def predict_one_value(self, featList, k:int):\n",
    "        train_frame = self.data.copy(deep=True)\n",
    "        _, n = train_frame.shape\n",
    "        train_frame['distance'] = (sum([(train_frame.iloc[:,i] - featList[i]) ** 2 for i in range(n-1) ])) ** 0.5\n",
    "        train_frame.sort_values(by='distance', inplace=True)\n",
    "        prediction = train_frame.iloc[:k,-2].mode()[0]\n",
    "        return prediction\n",
    "    \n",
    "    def predict_multiple_values(self, featDataFrame, k:int):\n",
    "        train_frame = self.data.copy(deep=True)\n",
    "        _, n = train_frame.shape\n",
    "        l = len(featDataFrame)\n",
    "        predictions = []\n",
    "\n",
    "        for r in range(l):\n",
    "            train_frame['distance'] = (sum([(train_frame.iloc[:,i] - featDataFrame.iloc[r][i]) ** 2 for i in range(n-1) ])) ** 0.5\n",
    "            train_frame.sort_values(by='distance', inplace=True)\n",
    "            pred = train_frame.iloc[:k,-2].mode()[0]\n",
    "            predictions.append(pred)\n",
    "            \n",
    "        return predictions\n",
    "    \n",
    "    def accuracy(self, pred, labels):\n",
    "        correct = 0\n",
    "        total = len(pred)\n",
    "        for i in range(total):\n",
    "            if labels[i] == pred[i]:\n",
    "                correct += 1\n",
    "        print('accuracy',correct/total)\n",
    "        print(f'correct {correct}/{total}')"
   ]
  },
  {
   "cell_type": "code",
   "execution_count": 670,
   "metadata": {},
   "outputs": [
    {
     "name": "stderr",
     "output_type": "stream",
     "text": [
      "/var/folders/8n/kyg7fb_d6nxbl39w2mfh9rgh0000gn/T/ipykernel_3827/922076515.py:23: FutureWarning: Series.__getitem__ treating keys as positions is deprecated. In a future version, integer keys will always be treated as labels (consistent with DataFrame behavior). To access a value by position, use `ser.iloc[pos]`\n",
      "  train_frame['distance'] = (sum([(train_frame.iloc[:,i] - featDataFrame.iloc[r][i]) ** 2 for i in range(n-1) ])) ** 0.5\n",
      "/var/folders/8n/kyg7fb_d6nxbl39w2mfh9rgh0000gn/T/ipykernel_3827/922076515.py:23: FutureWarning: Series.__getitem__ treating keys as positions is deprecated. In a future version, integer keys will always be treated as labels (consistent with DataFrame behavior). To access a value by position, use `ser.iloc[pos]`\n",
      "  train_frame['distance'] = (sum([(train_frame.iloc[:,i] - featDataFrame.iloc[r][i]) ** 2 for i in range(n-1) ])) ** 0.5\n"
     ]
    }
   ],
   "source": [
    "test_size = 100\n",
    "train = data.iloc[:-test_size, :]\n",
    "test = data.iloc[-test_size:,:-1]\n",
    "labels = np.array(data.iloc[-test_size:,-1])\n",
    "knearest = KNearest(train)\n",
    "predictions = knearest.predict_multiple_values(test, k=3)"
   ]
  },
  {
   "cell_type": "code",
   "execution_count": 671,
   "metadata": {},
   "outputs": [
    {
     "name": "stdout",
     "output_type": "stream",
     "text": [
      "accuracy 0.98\n",
      "correct 98/100\n"
     ]
    }
   ],
   "source": [
    "knearest.accuracy(pred=predictions, labels=labels)"
   ]
  }
 ],
 "metadata": {
  "kernelspec": {
   "display_name": "Python 3",
   "language": "python",
   "name": "python3"
  },
  "language_info": {
   "codemirror_mode": {
    "name": "ipython",
    "version": 3
   },
   "file_extension": ".py",
   "mimetype": "text/x-python",
   "name": "python",
   "nbconvert_exporter": "python",
   "pygments_lexer": "ipython3",
   "version": "3.11.7"
  }
 },
 "nbformat": 4,
 "nbformat_minor": 2
}
